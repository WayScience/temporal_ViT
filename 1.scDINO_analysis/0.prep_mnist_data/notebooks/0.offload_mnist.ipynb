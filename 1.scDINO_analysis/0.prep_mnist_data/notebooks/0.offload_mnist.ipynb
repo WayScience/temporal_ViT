{
 "cells": [
  {
   "cell_type": "code",
   "execution_count": 1,
   "metadata": {},
   "outputs": [],
   "source": [
    "import pathlib\n",
    "import pickle\n",
    "import sys\n",
    "\n",
    "import mnist\n",
    "import numpy as np\n",
    "\n",
    "sys.path.append(\"../../../utils\")\n",
    "import matplotlib.pyplot as plt\n",
    "import tifffile\n",
    "import tqdm\n",
    "from prep_data import MNIST_Dataset\n",
    "from torch.utils.data import DataLoader"
   ]
  },
  {
   "cell_type": "code",
   "execution_count": 2,
   "metadata": {},
   "outputs": [],
   "source": [
    "# open the data\n",
    "# set path to the data\n",
    "mnist_pickle_path = pathlib.Path(\"../../../data/mnist/MNIST.pkl\").resolve(strict=True)\n",
    "photos_output_path_train = pathlib.Path(\"../../../data/mnist_photos/train\").resolve()\n",
    "photos_output_path_test = pathlib.Path(\"../../../data/mnist_photos/test\").resolve()\n",
    "photos_output_path_train.mkdir(parents=True, exist_ok=True)\n",
    "photos_output_path_test.mkdir(parents=True, exist_ok=True)\n",
    "\n",
    "with open(mnist_pickle_path, \"rb\") as file_handle:\n",
    "    MNIST = pickle.load(file_handle)\n",
    "\n",
    "# set the batch size\n",
    "batch_size = 100\n",
    "# number of frames to generate\n",
    "num_frames = 10"
   ]
  },
  {
   "cell_type": "code",
   "execution_count": 3,
   "metadata": {},
   "outputs": [],
   "source": [
    "def del_files(folder):\n",
    "    # get the number of files in the folder\n",
    "    while len(list(folder.iterdir())) > 0:\n",
    "        for file in folder.iterdir():\n",
    "            if file.is_file():\n",
    "                file.unlink()\n",
    "            elif file.is_dir():\n",
    "                # check for files in the folder\n",
    "                if len(list(file.iterdir())) == 0:\n",
    "                    file.rmdir()\n",
    "                elif len(list(file.iterdir())) > 0:\n",
    "                    del_files(file)\n",
    "            else:\n",
    "                del_files(file)\n",
    "\n",
    "\n",
    "del_files(photos_output_path_train)\n",
    "del_files(photos_output_path_test)"
   ]
  },
  {
   "cell_type": "markdown",
   "metadata": {},
   "source": [
    "### Get the train data"
   ]
  },
  {
   "cell_type": "code",
   "execution_count": 4,
   "metadata": {},
   "outputs": [
    {
     "name": "stdout",
     "output_type": "stream",
     "text": [
      "There will be 600.0 total batches.\n",
      "Each batch will have 100 images.\n",
      "However, this is temporal data, so each image will have multiple frames.\n",
      "Each image will have 10 frames.\n",
      "Each frame will have 784 pixels.\n",
      "For a total of 600000 final images.\n"
     ]
    },
    {
     "name": "stderr",
     "output_type": "stream",
     "text": [
      "  0%|          | 0/600 [00:00<?, ?it/s]/tmp/ipykernel_19925/3837981977.py:38: DeprecationWarning: <tifffile.imsave> is deprecated. Use tifffile.imwrite\n",
      "  tifffile.imsave(photos_output_file_path_train / f\"label_{label}_{j}_{k}.tiff\", multi_channel_image)\n",
      "100%|██████████| 600/600 [03:21<00:00,  2.98it/s]"
     ]
    },
    {
     "name": "stdout",
     "output_type": "stream",
     "text": [
      "60000\n"
     ]
    },
    {
     "name": "stderr",
     "output_type": "stream",
     "text": [
      "\n"
     ]
    }
   ],
   "source": [
    "# create the data class\n",
    "# this class makes a rolling window of the data\n",
    "data = MNIST_Dataset(\n",
    "    MNIST[\"train_image\"], MNIST[\"train_label\"], binary=False, number_of_frames=num_frames\n",
    ")\n",
    "# create the data loader\n",
    "data_loader = DataLoader(data, batch_size=batch_size, shuffle=True)\n",
    "# get the first batch of data\n",
    "batch, sample = next(enumerate(data_loader))\n",
    "print(f\"There will be {MNIST[\"train_label\"].shape[0] / batch_size} total batches.\")\n",
    "print(f\"Each batch will have {batch_size} images.\")\n",
    "print(\"However, this is temporal data, so each image will have multiple frames.\")\n",
    "print(f\"Each image will have {sample[1]['image'].shape[1]} frames.\")\n",
    "print(f\"Each frame will have {sample[1]['image'].shape[2]} pixels.\")\n",
    "print(f\"For a total of {MNIST[\"train_label\"].shape[0] * sample[1]['image'].shape[1]} final images.\")\n",
    "count = 0\n",
    "# loop through the data and save the images to disk\n",
    "for i in tqdm.tqdm(range(int(MNIST[\"train_label\"].shape[0] / batch_size))):\n",
    "    count = count + (1*batch_size)\n",
    "    # get the batch\n",
    "    batch, sample = next(enumerate(data_loader))\n",
    "    # loop through the batch\n",
    "    for j in range(batch_size):\n",
    "        label = sample[1][\"label\"].tolist()[1][0][0]\n",
    "        sample_image = sample[1]['image'][j].numpy()\n",
    "        idx = sample[0].tolist()[j]\n",
    "        for k in range(sample[1]['image'][j].shape[0]):\n",
    "            # save the image\n",
    "            photos_output_file_path_train = pathlib.Path(photos_output_path_train / f\"{idx}\"/ f\"timepoint_{k}\")\n",
    "            photos_output_file_path_train.mkdir(parents=True, exist_ok=True)\n",
    "            # define a blank image\n",
    "            blank_image = np.zeros((28, 28))\n",
    "            # save both images as a multi channel image tiff\n",
    "            multi_channel_image = np.stack([sample[1]['image'][j][k].reshape(28, 28), blank_image], axis=0)\n",
    "            # ensure that the image is saved as a tiff in the following format:\n",
    "            # (channel, x, y)\n",
    "            multi_channel_image = np.moveaxis(multi_channel_image, 0, -1)\n",
    "            tifffile.imsave(photos_output_file_path_train / f\"label_{label}_{j}_{k}.tiff\", multi_channel_image)\n",
    "            \n",
    "  \n",
    "print(count)"
   ]
  },
  {
   "cell_type": "markdown",
   "metadata": {},
   "source": [
    "### Get the test data"
   ]
  },
  {
   "cell_type": "code",
   "execution_count": 5,
   "metadata": {},
   "outputs": [
    {
     "name": "stdout",
     "output_type": "stream",
     "text": [
      "There will be 100.0 total batches.\n",
      "Each batch will have 100 images.\n",
      "However, this is temporal data, so each image will have multiple frames.\n",
      "Each image will have 10 frames.\n",
      "Each frame will have 784 pixels.\n",
      "For a total of 100000 final images.\n"
     ]
    },
    {
     "name": "stderr",
     "output_type": "stream",
     "text": [
      "  0%|          | 0/100 [00:00<?, ?it/s]/tmp/ipykernel_19925/2839826281.py:38: DeprecationWarning: <tifffile.imsave> is deprecated. Use tifffile.imwrite\n",
      "  tifffile.imsave(photos_output_file_path_test / f\"label_{label}_{j}_{k}.tiff\", multi_channel_image)\n",
      "100%|██████████| 100/100 [00:31<00:00,  3.19it/s]"
     ]
    },
    {
     "name": "stdout",
     "output_type": "stream",
     "text": [
      "10000\n"
     ]
    },
    {
     "name": "stderr",
     "output_type": "stream",
     "text": [
      "\n"
     ]
    }
   ],
   "source": [
    "# create the data class\n",
    "# this class makes a rolling window of the data\n",
    "data = MNIST_Dataset(\n",
    "    MNIST[\"test_image\"], MNIST[\"test_label\"], binary=False, number_of_frames=num_frames\n",
    ")\n",
    "# create the data loader\n",
    "data_loader = DataLoader(data, batch_size=batch_size, shuffle=True)\n",
    "# get the first batch of data\n",
    "batch, sample = next(enumerate(data_loader))\n",
    "print(f\"There will be {MNIST[\"test_label\"].shape[0] / batch_size} total batches.\")\n",
    "print(f\"Each batch will have {batch_size} images.\")\n",
    "print(\"However, this is temporal data, so each image will have multiple frames.\")\n",
    "print(f\"Each image will have {sample[1]['image'].shape[1]} frames.\")\n",
    "print(f\"Each frame will have {sample[1]['image'].shape[2]} pixels.\")\n",
    "print(f\"For a total of {MNIST[\"test_label\"].shape[0] * sample[1]['image'].shape[1]} final images.\")\n",
    "count = 0\n",
    "# loop through the data and save the images to disk\n",
    "for i in tqdm.tqdm(range(int(MNIST[\"test_label\"].shape[0] / batch_size))):\n",
    "    count = count + (1*batch_size)\n",
    "    # get the batch\n",
    "    batch, sample = next(enumerate(data_loader))\n",
    "    # loop through the batch\n",
    "    for j in range(batch_size):\n",
    "        # print(sample[0].tolist()[j])\n",
    "        sample_image = sample[1]['image'][j].numpy()\n",
    "        idx = sample[0].tolist()[j]\n",
    "        for k in range(sample[1]['image'][j].shape[0]):\n",
    "            # save the image\n",
    "            photos_output_file_path_test = pathlib.Path(photos_output_path_test / f\"{idx}\"/ f\"timepoint_{k}\")\n",
    "            photos_output_file_path_test.mkdir(parents=True, exist_ok=True)\n",
    "            # define a blank image\n",
    "            blank_image = np.zeros((28, 28))\n",
    "            # save both images as a multi channel image tiff\n",
    "            multi_channel_image = np.stack([sample[1]['image'][j][k].reshape(28, 28), blank_image], axis=0)\n",
    "            # ensure that the image is saved as a tiff in the following format:\n",
    "            # (channel, x, y)\n",
    "            multi_channel_image = np.moveaxis(multi_channel_image, 0, -1)\n",
    "            tifffile.imsave(photos_output_file_path_test / f\"label_{label}_{j}_{k}.tiff\", multi_channel_image)\n",
    "\n",
    "print(count)"
   ]
  }
 ],
 "metadata": {
  "kernelspec": {
   "display_name": "transformers_env",
   "language": "python",
   "name": "python3"
  },
  "language_info": {
   "codemirror_mode": {
    "name": "ipython",
    "version": 3
   },
   "file_extension": ".py",
   "mimetype": "text/x-python",
   "name": "python",
   "nbconvert_exporter": "python",
   "pygments_lexer": "ipython3",
   "version": "3.12.4"
  }
 },
 "nbformat": 4,
 "nbformat_minor": 2
}
