{
 "cells": [
  {
   "cell_type": "code",
   "execution_count": 1,
   "metadata": {
    "vscode": {
     "languageId": "r"
    }
   },
   "outputs": [
    {
     "name": "stderr",
     "output_type": "stream",
     "text": [
      "\n",
      "Attaching package: ‘dplyr’\n",
      "\n",
      "\n",
      "The following objects are masked from ‘package:stats’:\n",
      "\n",
      "    filter, lag\n",
      "\n",
      "\n",
      "The following objects are masked from ‘package:base’:\n",
      "\n",
      "    intersect, setdiff, setequal, union\n",
      "\n",
      "\n",
      "Warning message:\n",
      "“package ‘ggplot2’ was built under R version 4.3.3”\n",
      "Warning message:\n",
      "“package ‘rsconnect’ was built under R version 4.3.2”\n"
     ]
    }
   ],
   "source": [
    "suppressPackageStartupMessages(suppressWarnings(library(dplyr)))\n",
    "suppressPackageStartupMessages(suppressWarnings(library(ggplot2)))\n",
    "suppressPackageStartupMessages(suppressWarnings(library(rsconnect)))"
   ]
  },
  {
   "cell_type": "markdown",
   "metadata": {
    "vscode": {
     "languageId": "r"
    }
   },
   "source": [
    "# Set up system variables"
   ]
  },
  {
   "cell_type": "code",
   "execution_count": 2,
   "metadata": {
    "vscode": {
     "languageId": "r"
    }
   },
   "outputs": [],
   "source": [
    "Sys.setenv(RSCONNECT_NAME='lippincm')\n",
    "Sys.setenv(RSCONNECT_TOKEN='26C65D7226A3C01914DAF5FA0AFC3AF9')\n",
    "Sys.setenv(RSCONNECT_SECRET='bk50r2IoqGRgjmr8cMiJn/WntXxMSnH9VqQUZgmI')"
   ]
  },
  {
   "cell_type": "code",
   "execution_count": 3,
   "metadata": {
    "vscode": {
     "languageId": "r"
    }
   },
   "outputs": [
    {
     "data": {
      "text/html": [
       "'lippincm'"
      ],
      "text/latex": [
       "'lippincm'"
      ],
      "text/markdown": [
       "'lippincm'"
      ],
      "text/plain": [
       "[1] \"lippincm\""
      ]
     },
     "metadata": {},
     "output_type": "display_data"
    }
   ],
   "source": [
    "Sys.getenv(\"RSCONNECT_NAME\")"
   ]
  },
  {
   "cell_type": "code",
   "execution_count": 4,
   "metadata": {
    "vscode": {
     "languageId": "r"
    }
   },
   "outputs": [
    {
     "name": "stderr",
     "output_type": "stream",
     "text": [
      "── Preparing for deployment ────────────────────────────────────────────────────\n",
      "\n",
      "\u001b[32m✔\u001b[39m Re-deploying \u001b[34m\u001b[34m\"temporal_shiny_app\"\u001b[34m\u001b[39m using \u001b[34m\u001b[34m\"server: shinyapps.io / username: lippincm\"\u001b[34m\u001b[39m\n",
      "\n",
      "\u001b[36mℹ\u001b[39m Looking up application with id \u001b[34m\u001b[34m\"11753333\"\u001b[34m\u001b[39m...\n",
      "\n",
      "\u001b[32m✔\u001b[39m Found application \u001b[3m\u001b[34m\u001b[3m\u001b[34m<https://lippincm.shinyapps.io/temporal_shiny_app/>\u001b[34m\u001b[3m\u001b[39m\u001b[23m\n",
      "\n",
      "\u001b[36mℹ\u001b[39m Bundling 4 files: \u001b[34m\u001b[34m.Rprofile\u001b[34m\u001b[39m, \u001b[34m\u001b[34mCLS_features_annotated_umap.csv\u001b[34m\u001b[39m, \u001b[34m\u001b[34mserver.r\u001b[34m\u001b[39m, and \u001b[34m\u001b[34mui.r\u001b[34m\u001b[39m\n",
      "\n",
      "\u001b[36mℹ\u001b[39m Capturing R dependencies with renv\n",
      "\n",
      "\u001b[32m✔\u001b[39m Found 55 dependencies\n",
      "\n",
      "\u001b[32m✔\u001b[39m Created 4,216,145b bundle\n",
      "\n",
      "\u001b[36mℹ\u001b[39m Uploading bundle...\n",
      "\n",
      "\u001b[32m✔\u001b[39m Uploaded bundle with id \u001b[34m\u001b[34m8620592\u001b[34m\u001b[39m\n",
      "\n",
      "── Deploying to server ─────────────────────────────────────────────────────────\n",
      "\n"
     ]
    },
    {
     "name": "stdout",
     "output_type": "stream",
     "text": [
      "Waiting for task: 1416704495\n",
      "  building: Building image: 10497802\n",
      "  building: Fetching packages\n",
      "  building: Installing packages\n",
      "  building: Installing files\n",
      "  building: Pushing image: 10497802\n",
      "  deploying: Starting instances\n",
      "  unstaging: Stopping old instances\n"
     ]
    },
    {
     "name": "stderr",
     "output_type": "stream",
     "text": [
      "── Deployment complete ─────────────────────────────────────────────────────────\n",
      "\n",
      "\u001b[32m✔\u001b[39m Successfully deployed to \u001b[3m\u001b[34m\u001b[3m\u001b[34m<https://lippincm.shinyapps.io/temporal_shiny_app/>\u001b[34m\u001b[3m\u001b[39m\u001b[23m\n",
      "\n"
     ]
    }
   ],
   "source": [
    "# connect to the shinyapps.io account\n",
    "rsconnect::setAccountInfo(\n",
    "  name = Sys.getenv(\"RSCONNECT_NAME\"),\n",
    "  token = Sys.getenv(\"RSCONNECT_TOKEN\"),\n",
    "  secret = Sys.getenv(\"RSCONNECT_SECRET\")\n",
    ")\n",
    "\n",
    "# deploy the app\n",
    "rsconnect::deployApp(appDir = \"../temporal_shiny_app\", appName = \"temporal_shiny_app\")"
   ]
  }
 ],
 "metadata": {
  "kernelspec": {
   "display_name": "R",
   "language": "R",
   "name": "ir"
  },
  "language_info": {
   "codemirror_mode": "r",
   "file_extension": ".r",
   "mimetype": "text/x-r-source",
   "name": "R",
   "pygments_lexer": "r",
   "version": "4.3.1"
  }
 },
 "nbformat": 4,
 "nbformat_minor": 2
}
